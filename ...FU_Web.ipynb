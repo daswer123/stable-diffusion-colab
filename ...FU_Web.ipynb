{
  "nbformat": 4,
  "nbformat_minor": 0,
  "metadata": {
    "colab": {
      "provenance": [],
      "collapsed_sections": [
        "bPyY7QA7Ud68"
      ]
    },
    "kernelspec": {
      "name": "python3",
      "display_name": "Python 3"
    },
    "language_info": {
      "name": "python"
    },
    "accelerator": "GPU"
  },
  "cells": [
    {
      "cell_type": "markdown",
      "source": [
        "Good anon, took the NAI files apart and put together a working web generator that works exactly like the original. \n",
        "\n",
        "I adapted it into a collab"
      ],
      "metadata": {
        "id": "CX9IagGrYBzF"
      }
    },
    {
      "cell_type": "markdown",
      "source": [
        "#SETUP"
      ],
      "metadata": {
        "id": "bPyY7QA7Ud68"
      }
    },
    {
      "cell_type": "code",
      "source": [
        "!wget -O mini.sh https://repo.anaconda.com/miniconda/Miniconda3-py38_4.8.2-Linux-x86_64.sh\n",
        "!chmod +x mini.sh\n",
        "!bash ./mini.sh -b -f -p /usr/local\n",
        "!conda install -q -y jupyter\n",
        "!conda install -q -y google-colab -c conda-forge\n",
        "!python -m ipykernel install --name \"py39\" --user"
      ],
      "metadata": {
        "id": "n520mZm3Vsku"
      },
      "execution_count": null,
      "outputs": []
    },
    {
      "cell_type": "code",
      "source": [
        "# !pip install virtualenv\n",
        "!pip install uvicorn\n",
        "!npm install -g localtunnel\n",
        "!pip install gdown\n",
        "!gdown https://huggingface.co/Daswer123/asdasdadsa/resolve/main/naifu.zip #pls don't like it\n",
        "!unzip naifu.zip\n",
        "!mv models /content/program/"
      ],
      "metadata": {
        "id": "HfD0Lugl-9De"
      },
      "execution_count": null,
      "outputs": []
    },
    {
      "cell_type": "code",
      "source": [
        "%cd /content/program\n",
        "!pip install -r /content/program/requirements.txt"
      ],
      "metadata": {
        "id": "nUoBhgaAC5Om"
      },
      "execution_count": null,
      "outputs": []
    },
    {
      "cell_type": "markdown",
      "source": [
        "# Launch"
      ],
      "metadata": {
        "id": "VDqCwYUaUadZ"
      }
    },
    {
      "cell_type": "markdown",
      "source": [
        "Start the cell and you will get the link, then start the next one and wait until it starts, then go to this link"
      ],
      "metadata": {
        "id": "HJ_PB0DvaZi-"
      }
    },
    {
      "cell_type": "code",
      "source": [
        "%cd /content/program\n",
        "!nohup lt -l 0.0.0.0 -p 6969 > lt.log 2>&1 &  \n",
        "import time\n",
        "time.sleep(2)\n",
        "with open('/content/program/lt.log', 'r') as testwritefile:\n",
        "  print(\"\\033[92m\" + \"Start next cell and wait until it loads then follow this link\")\n",
        "  print(testwritefile.read())\n",
        "  print(\"\\033[95m\")\n"
      ],
      "metadata": {
        "id": "NBrmRspaJ8Er"
      },
      "execution_count": null,
      "outputs": []
    },
    {
      "cell_type": "code",
      "source": [
        "%%shell \n",
        "\n",
        "# UNCOMMENT if you want the backend to automatically save files for you\n",
        "# export SAVE_FILES=\"1\"\n",
        "export DTYPE=\"float32\" \n",
        "export CLIP_CONTEXTS=3\n",
        "export AMP=\"1\"\n",
        "export MODEL=\"stable-diffusion\"\n",
        "export DEV=\"True\"\n",
        "export MODEL_PATH=\"models/animefull-final-pruned\"\n",
        "#these aren't actually used by the site\n",
        "#export MODULE_PATH=\"models/modules\"\n",
        "#unclear if these are used either\n",
        "#export PRIOR_PATH=\"models/vector_adjust_v2.pt\"\n",
        "export ENABLE_EMA=\"1\"\n",
        "export VAE_PATH=\"models/animevae.pt\"\n",
        "export PENULTIMATE=\"1\"\n",
        "export PYTHONDONTWRITEBYTECODE=1\n",
        "\n",
        "python -m uvicorn --host 0.0.0.0 --port=6969 main:app"
      ],
      "metadata": {
        "id": "eVc1Kk6xb1GT"
      },
      "execution_count": null,
      "outputs": []
    }
  ]
}