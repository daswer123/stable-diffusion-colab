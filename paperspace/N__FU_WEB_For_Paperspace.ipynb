{
  "cells": [
    {
      "cell_type": "markdown",
      "metadata": {
        "id": "bPyY7QA7Ud68"
      },
      "source": [
        "# SETUP"
      ]
    },
    {
      "cell_type": "code",
      "execution_count": null,
      "metadata": {
        "execution": {
          "iopub.execute_input": "2022-10-10T01:55:04.916541Z",
          "iopub.status.busy": "2022-10-10T01:55:04.915942Z",
          "iopub.status.idle": "2022-10-10T02:02:04.391780Z",
          "shell.execute_reply": "2022-10-10T02:02:04.391089Z",
          "shell.execute_reply.started": "2022-10-10T01:55:04.916481Z"
        },
        "id": "HfD0Lugl-9De"
      },
      "outputs": [],
      "source": [
        "# !pip install virtualenv\n",
        "!pip install uvicorn\n",
        "!npm install -g localtunnel\n",
        "!pip install gdown\n",
        "!gdown https://huggingface.co/Daswer123/asdasdadsa/resolve/main/naifu.zip\n",
        "!unzip naifu.zip\n",
        "!mv models /content/program/"
      ]
    },
    {
      "cell_type": "code",
      "execution_count": null,
      "metadata": {
        "execution": {
          "iopub.execute_input": "2022-10-10T02:13:40.816398Z",
          "iopub.status.busy": "2022-10-10T02:13:40.816133Z",
          "iopub.status.idle": "2022-10-10T02:13:41.205543Z",
          "shell.execute_reply": "2022-10-10T02:13:41.204679Z",
          "shell.execute_reply.started": "2022-10-10T02:13:40.816377Z"
        },
        "id": "rVuDVOv_0Mlo"
      },
      "outputs": [],
      "source": [
        "!mv models /notebooks/program/"
      ]
    },
    {
      "cell_type": "code",
      "execution_count": null,
      "metadata": {
        "execution": {
          "iopub.execute_input": "2022-10-10T10:57:19.187971Z",
          "iopub.status.busy": "2022-10-10T10:57:19.187407Z",
          "iopub.status.idle": "2022-10-10T10:57:27.570999Z",
          "shell.execute_reply": "2022-10-10T10:57:27.570429Z",
          "shell.execute_reply.started": "2022-10-10T10:57:19.187913Z"
        },
        "id": "nUoBhgaAC5Om"
      },
      "outputs": [],
      "source": [
        "%cd /notebooks/program\n",
        "!pip install -r /notebooks/program/requirements.txt\n",
        "!wget https://pastebin.com/raw/SKh0Xzc1 -O /notebooks/program/run.sh"
      ]
    },
    {
      "cell_type": "markdown",
      "metadata": {
        "id": "VDqCwYUaUadZ"
      },
      "source": [
        "# Launch"
      ]
    },
    {
      "cell_type": "markdown",
      "metadata": {
        "id": "HJ_PB0DvaZi-"
      },
      "source": [
        "Open terminal, type code below and you will get the link, then start the cell and wait until it starts, then go to this link in terminal"
      ]
    },
    {
      "cell_type": "markdown",
      "metadata": {
        "id": "2WkPlMsJ0Mlq"
      },
      "source": [
        "npm install localtunnel\n",
        "\n",
        "lt -l 0.0.0.0 -p 6969"
      ]
    },
    {
      "cell_type": "code",
      "execution_count": null,
      "metadata": {
        "execution": {
          "iopub.execute_input": "2022-10-10T10:58:37.294401Z",
          "iopub.status.busy": "2022-10-10T10:58:37.294140Z",
          "iopub.status.idle": "2022-10-10T10:59:04.903323Z",
          "shell.execute_reply": "2022-10-10T10:59:04.902733Z",
          "shell.execute_reply.started": "2022-10-10T10:58:37.294383Z"
        },
        "id": "eVc1Kk6xb1GT"
      },
      "outputs": [],
      "source": [
        "%cd /notebooks/program\n",
        "!bash run.sh"
      ]
    },
    {
      "cell_type": "markdown",
      "source": [
        "# Notes\n",
        "1) You can load your model and vae by changing the path in MODEL_PATH and VAE_PATH \n",
        "\n",
        "2) Keep in mind that in NAI \"bad anatomy + low quality\" and \"low quality\" is the same as \"NSFW + bad anatomy + low quality\" and \"NSFW + low quality\"\n",
        "\n",
        "3) 99% of the time the result is identical to NAI Full in their website"
      ],
      "metadata": {
        "id": "k3SBqNBi0kd8"
      }
    }
  ],
  "metadata": {
    "accelerator": "GPU",
    "colab": {
      "collapsed_sections": [
        "bPyY7QA7Ud68"
      ],
      "provenance": []
    },
    "kernelspec": {
      "display_name": "Python 3 (ipykernel)",
      "language": "python",
      "name": "python3"
    },
    "language_info": {
      "codemirror_mode": {
        "name": "ipython",
        "version": 3
      },
      "file_extension": ".py",
      "mimetype": "text/x-python",
      "name": "python",
      "nbconvert_exporter": "python",
      "pygments_lexer": "ipython3",
      "version": "3.9.13"
    }
  },
  "nbformat": 4,
  "nbformat_minor": 0
}