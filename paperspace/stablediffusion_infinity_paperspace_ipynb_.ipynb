{
  "nbformat": 4,
  "nbformat_minor": 0,
  "metadata": {
    "colab": {
      "provenance": [],
      "collapsed_sections": []
    },
    "kernelspec": {
      "name": "python3",
      "display_name": "Python 3"
    },
    "language_info": {
      "name": "python"
    },
    "accelerator": "GPU"
  },
  "cells": [
    {
      "cell_type": "markdown",
      "source": [
        "# stablediffusion-infinity\n",
        "\n",
        "https://github.com/lkwq007/stablediffusion-infinity\n",
        "\n",
        "Outpainting with Stable Diffusion on an infinite canvas\n",
        "\n",
        "Modify for paperspace: **daswer123**"
      ],
      "metadata": {
        "id": "IgN1jqV_DemW"
      }
    },
    {
      "cell_type": "markdown",
      "source": [
        "# SETUP"
      ],
      "metadata": {
        "id": "ndIKbPHpqaoP"
      }
    },
    {
      "cell_type": "code",
      "execution_count": null,
      "metadata": {
        "id": "JvbfNNSJDTW5"
      },
      "outputs": [],
      "source": [
        "!nvidia-smi -L\n",
        "!pip install -qq -U diffusers==0.6.0 transformers ftfy\n",
        "!pip install -q gradio==3.6\n",
        "!pip install -q fpie"
      ]
    },
    {
      "cell_type": "code",
      "source": [
        "#Function for determining compute capability \n",
        "def get_compute_capability(string):\n",
        "    return string.split(',')[3].split(':')[1].strip()\n",
        "\n",
        "from tensorflow.python.client import device_lib\n",
        "gpu = device_lib.list_local_devices()\n",
        "compute = get_compute_capability(gpu[1].physical_device_desc)\n",
        "\n",
        "print(gpu[1].physical_device_desc)\n",
        "print(compute)\n",
        "\n",
        "\n",
        "#Install precompiled wheel\n",
        "if(compute == \"8.6\"): \n",
        "    !pip install https://github.com/daswer123/stable-diffusion-colab/raw/main/xformers%20prebuild/sm_86/xformers-0.0.14.dev0-cp39-cp39-linux_x86_64.whl\n",
        "if(compute == \"7.5\"):\n",
        "    !pip install https://github.com/daswer123/stable-diffusion-colab/raw/main/xformers%20prebuild/sm_75/xformers-0.0.14.dev0-cp39-cp39-linux_x86_64.whl\n",
        "if(compute == \"6.1\"):\n",
        "    !pip install https://github.com/daswer123/stable-diffusion-colab/raw/main/xformers%20prebuild/sm_61/xformers-0.0.14.dev0-cp310-cp310-win_amd64.whl\n",
        "if(compute == \"5.2\"):\n",
        "    !pip install https://github.com/daswer123/xformers_prebuild_wheels/raw/main/sm_52/xformers-0.0.14.dev0-cp39-cp39-linux_x86_64.whl\n"
      ],
      "metadata": {
        "id": "DiyQQ-_mpy5y"
      },
      "execution_count": null,
      "outputs": []
    },
    {
      "cell_type": "code",
      "source": [
        "!git clone --recurse-submodules https://github.com/lkwq007/stablediffusion-infinity\n",
        "%cd stablediffusion-infinity\n",
        "!cp -r PyPatchMatch/csrc .\n",
        "!cp PyPatchMatch/Makefile .\n",
        "!cp PyPatchMatch/travis.sh .\n",
        "!cp PyPatchMatch/patch_match.py . "
      ],
      "metadata": {
        "id": "ZRnl5vp-qQUY"
      },
      "execution_count": null,
      "outputs": []
    },
    {
      "cell_type": "markdown",
      "source": [
        "# Start stablediffusion-infinity (first setup may takes about two minutes for downloading models)"
      ],
      "metadata": {
        "id": "k7QGtAaXqUFf"
      }
    },
    {
      "cell_type": "code",
      "source": [
        "!python app.py --share"
      ],
      "metadata": {
        "id": "UGotC5ckDlmO"
      },
      "execution_count": null,
      "outputs": []
    }
  ]
}