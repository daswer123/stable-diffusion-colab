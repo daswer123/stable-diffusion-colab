{
  "nbformat": 4,
  "nbformat_minor": 0,
  "metadata": {
    "colab": {
      "private_outputs": true,
      "provenance": [],
      "collapsed_sections": [
        "8CsHPbUfJ2ym",
        "GpEfNt0SaKe2",
        "VXv7BczRaQnl",
        "nbt5X29pe9NT",
        "jr9TOxYkT4YO",
        "z7NSxOhOiCFH"
      ]
    },
    "kernelspec": {
      "name": "python3",
      "display_name": "Python 3"
    },
    "language_info": {
      "name": "python"
    },
    "accelerator": "GPU",
    "gpuClass": "standard"
  },
  "cells": [
    {
      "cell_type": "markdown",
      "source": [
        "https://github.com/AUTOMATIC1111/stable-diffusion-webui"
      ],
      "metadata": {
        "id": "gfKvWAVnz8OB"
      }
    },
    {
      "cell_type": "markdown",
      "source": [
        "**Colab was created by user: daswer123**\n",
        "\n",
        "https://github.com/daswer123/stable-diffusion-colab\n",
        "\n",
        "**If you liked the colab, give it a star :)**"
      ],
      "metadata": {
        "id": "WbSBMNZnmPt2"
      }
    },
    {
      "cell_type": "markdown",
      "source": [
        "#SETUP"
      ],
      "metadata": {
        "id": "8CsHPbUfJ2ym"
      }
    },
    {
      "cell_type": "code",
      "execution_count": null,
      "metadata": {
        "id": "OL82Y4rBjZIV"
      },
      "outputs": [],
      "source": [
        "!nvidia-smi"
      ]
    },
    {
      "cell_type": "code",
      "source": [
        "!ls /usr/share/fonts/truetype/"
      ],
      "metadata": {
        "id": "wXlH7pyi8gxk"
      },
      "execution_count": null,
      "outputs": []
    },
    {
      "cell_type": "code",
      "source": [
        "!npm install -g localtunnel"
      ],
      "metadata": {
        "id": "14uq_xiDiaTs"
      },
      "execution_count": null,
      "outputs": []
    },
    {
      "cell_type": "code",
      "source": [
        "!git clone https://github.com/AUTOMATIC1111/stable-diffusion-webui\n",
        "%cd stable-diffusion-webui"
      ],
      "metadata": {
        "id": "sBbcB4vwj_jm"
      },
      "execution_count": null,
      "outputs": []
    },
    {
      "cell_type": "code",
      "source": [
        "!pip install -r requirements.txt\n",
        "!mkdir repositories\n",
        "!git clone https://github.com/CompVis/stable-diffusion.git repositories/stable-diffusion\n",
        "!git clone https://github.com/CompVis/taming-transformers.git repositories/taming-transformers\n",
        "!git clone https://github.com/sczhou/CodeFormer.git repositories/CodeFormer\n",
        "!git clone https://github.com/salesforce/BLIP.git repositories/BLIP\n",
        "!pip install -r repositories/CodeFormer/requirements.txt "
      ],
      "metadata": {
        "id": "SaAJk33ppFw1"
      },
      "execution_count": null,
      "outputs": []
    },
    {
      "cell_type": "code",
      "source": [
        "%cd /content/stable-diffusion-webui/\n",
        "!wget \"https://drive.yerf.org/wl/?id=EBfTrmcCCUAGaQBXVIj5lJmEhjoP1tgl&mode=grid&download=1\" -O /content/stable-diffusion-webui/model.ckpt"
      ],
      "metadata": {
        "id": "CT_J9L7oqLxG"
      },
      "execution_count": null,
      "outputs": []
    },
    {
      "cell_type": "code",
      "source": [
        "!wget https://github.com/TencentARC/GFPGAN/releases/download/v1.3.0/GFPGANv1.3.pth"
      ],
      "metadata": {
        "id": "mstv-L61KsF6"
      },
      "execution_count": null,
      "outputs": []
    },
    {
      "cell_type": "code",
      "source": [
        "%cd /content/stable-diffusion-webui\n",
        "!git pull"
      ],
      "metadata": {
        "id": "I1j4j2NfAQye"
      },
      "execution_count": null,
      "outputs": []
    },
    {
      "cell_type": "code",
      "source": [
        "%cd /content/stable-diffusion-webui\n",
        "def replace_line(file_name, line_num, text):\n",
        "    lines = open(file_name, 'r').readlines()\n",
        "    lines[line_num] = text\n",
        "    out = open(file_name, 'w')\n",
        "    out.writelines(lines)\n",
        "    out.close()\n",
        "\n",
        "def replace_line_in_file(file_name, line_to_search, text_to_replace):\n",
        "    with open(file_name, 'r') as file:\n",
        "        # read a list of lines into data\n",
        "        data = file.readlines()\n",
        "\n",
        "    for line in data:\n",
        "        # if the line contains the string we're looking for,\n",
        "        # write the line to the output file\n",
        "        if line_to_search in line:\n",
        "            replace_line(file_name, data.index(line), text_to_replace)\n",
        "\n",
        "replace_line_in_file('webui.py', 'pl_sd = torch.load(ckpt, map_location=\"cpu\")', '    pl_sd = torch.load(ckpt, map_location=\"cuda:0\")\\n')\n"
      ],
      "metadata": {
        "id": "I_p_WUxT74Tp"
      },
      "execution_count": null,
      "outputs": []
    },
    {
      "cell_type": "code",
      "source": [
        "import os\n",
        "os.kill(os.getpid(), 9) # This will crash Colab (required, everything will still be intact so dont worry)"
      ],
      "metadata": {
        "id": "n9dhYIagJwAf"
      },
      "execution_count": null,
      "outputs": []
    },
    {
      "cell_type": "markdown",
      "source": [
        "#Launch web ui. You will get a link to nnn.gradio.app, follow it."
      ],
      "metadata": {
        "id": "xt8lbdmC04ox"
      }
    },
    {
      "cell_type": "code",
      "source": [
        "%cd /content/stable-diffusion-webui\n",
        "!python webui.py --share"
      ],
      "metadata": {
        "id": "R-xAdMA5wxXd"
      },
      "execution_count": null,
      "outputs": []
    },
    {
      "cell_type": "markdown",
      "source": [
        "# EXTRA"
      ],
      "metadata": {
        "id": "GpEfNt0SaKe2"
      }
    },
    {
      "cell_type": "markdown",
      "source": [
        "### Change model to Waifu-Diffusion anime model"
      ],
      "metadata": {
        "id": "VXv7BczRaQnl"
      }
    },
    {
      "cell_type": "code",
      "source": [
        "%cd /content/stable-diffusion-webui/\n",
        "!wget \"http://wd.links.sd:8880/wd-v1-2-full-ema.ckpt\" -O /content/stable-diffusion-webui/model.ckpt"
      ],
      "metadata": {
        "id": "TUTGSHKDaPD-"
      },
      "execution_count": null,
      "outputs": []
    },
    {
      "cell_type": "markdown",
      "source": [
        "###Connect a Google drive to be able to save results to it.\n",
        "You can change the output folder path in the settings"
      ],
      "metadata": {
        "id": "nbt5X29pe9NT"
      }
    },
    {
      "cell_type": "code",
      "source": [
        "from google.colab import drive\n",
        "drive.mount('/content/drive')"
      ],
      "metadata": {
        "id": "CVf1aJNFe8E9"
      },
      "execution_count": null,
      "outputs": []
    },
    {
      "cell_type": "markdown",
      "source": [
        "###Change maximum steps to 500"
      ],
      "metadata": {
        "id": "jr9TOxYkT4YO"
      }
    },
    {
      "cell_type": "code",
      "source": [
        "!wget https://pastebin.com/raw/JUQ0Heq6 -O /content/stable-diffusion-webui/ui-config.json"
      ],
      "metadata": {
        "id": "7Si02Xqh1gbf"
      },
      "execution_count": null,
      "outputs": []
    },
    {
      "cell_type": "code",
      "source": [
        "# %cd /content/stable-diffusion-webui\n",
        "# def replace_line(file_name, line_num, text):\n",
        "#     lines = open(file_name, 'r').readlines()\n",
        "#     lines[line_num] = text\n",
        "#     out = open(file_name, 'w')\n",
        "#     out.writelines(lines)\n",
        "#     out.close()\n",
        "\n",
        "# def replace_line_in_file(file_name, line_to_search, text_to_replace):\n",
        "#     with open(file_name, 'r') as file:\n",
        "#         # read a list of lines into data\n",
        "#         data = file.readlines()\n",
        "\n",
        "#     for line in data:\n",
        "#         # if the line contains the string we're looking for,\n",
        "#         # write the line to the output file\n",
        "#         if line_to_search in line:\n",
        "#             replace_line(file_name, data.index(line), text_to_replace)\n",
        "\n",
        "# replace_line_in_file('ui-config.json', '\"txt2img/Sampling Steps/maximum\": 150', '    \"txt2img/Sampling Steps/maximum\": 500,\\n')"
      ],
      "metadata": {
        "id": "fuvUHiTnT8hm"
      },
      "execution_count": null,
      "outputs": []
    },
    {
      "cell_type": "markdown",
      "source": [
        "###Running webui with localtunnel to bypass the image loading lag"
      ],
      "metadata": {
        "id": "z7NSxOhOiCFH"
      }
    },
    {
      "cell_type": "markdown",
      "source": [
        "After receiving the localtunnel link, wait for the model to load and then click on it"
      ],
      "metadata": {
        "id": "oL3IYANqisb1"
      }
    },
    {
      "cell_type": "code",
      "source": [
        "!nohup lt -p 7860 > lt.log 2>&1 &"
      ],
      "metadata": {
        "id": "Aa2Jn9f4iRAd"
      },
      "execution_count": null,
      "outputs": []
    },
    {
      "cell_type": "code",
      "source": [
        "with open('/content/stable-diffusion-webui/lt.log', 'r') as testwritefile:\n",
        "    print(testwritefile.read())\n",
        "%cd /content/stable-diffusion-webui\n",
        "!python webui.py"
      ],
      "metadata": {
        "id": "T46eyYlPih4M"
      },
      "execution_count": null,
      "outputs": []
    }
  ]
}